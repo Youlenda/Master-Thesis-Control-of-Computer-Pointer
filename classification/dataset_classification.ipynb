{
  "nbformat": 4,
  "nbformat_minor": 0,
  "metadata": {
    "colab": {
      "name": "dataset classification.ipynb",
      "provenance": [],
      "collapsed_sections": []
    },
    "kernelspec": {
      "name": "python3",
      "display_name": "Python 3"
    },
    "accelerator": "GPU"
  },
  "cells": [
    {
      "cell_type": "markdown",
      "metadata": {
        "id": "ZA4hKOLO1Isy",
        "colab_type": "text"
      },
      "source": [
        "Yalda Foroutan\n",
        "\n",
        "https://github.com/Youlenda\n",
        "\n",
        "**Hand Pose Classification**"
      ]
    },
    {
      "cell_type": "markdown",
      "metadata": {
        "id": "OVE1reo71aBd",
        "colab_type": "text"
      },
      "source": [
        "Install Tensorflow, Keras and EfficientNet."
      ]
    },
    {
      "cell_type": "code",
      "metadata": {
        "id": "kTbypF-Gy0R1",
        "colab_type": "code",
        "colab": {}
      },
      "source": [
        "# !pip install q tensorflow==2.1\n",
        "# !pip install q keras==2.3.1"
      ],
      "execution_count": 1,
      "outputs": []
    },
    {
      "cell_type": "code",
      "metadata": {
        "id": "fFBdHoL9x9Ic",
        "colab_type": "code",
        "colab": {}
      },
      "source": [
        "# !pip install efficientnet"
      ],
      "execution_count": 2,
      "outputs": []
    },
    {
      "cell_type": "markdown",
      "metadata": {
        "id": "BARiERfF11Z8",
        "colab_type": "text"
      },
      "source": [
        "Import libraries."
      ]
    },
    {
      "cell_type": "code",
      "metadata": {
        "id": "YvNmVLvitFZ_",
        "colab_type": "code",
        "colab": {
          "base_uri": "https://localhost:8080/",
          "height": 85
        },
        "outputId": "6f194f41-f11c-45db-bcaa-95ce61e19ff7"
      },
      "source": [
        "import os\n",
        "import glob \n",
        "import numpy as np\n",
        "import pandas as pd\n",
        "from PIL import Image\n",
        "import seaborn as sns\n",
        "import tensorflow as tf\n",
        "\n",
        "import matplotlib.pyplot as plt\n",
        "import matplotlib.image as mpimg\n",
        "\n",
        "from sklearn.metrics import confusion_matrix\n",
        "from sklearn.model_selection import train_test_split\n",
        "\n",
        "import keras\n",
        "from keras import backend as k \n",
        "from keras.backend import sigmoid\n",
        "from keras import applications\n",
        "from keras import optimizers\n",
        "from keras.optimizers import Adam\n",
        "import efficientnet.keras as enet\n",
        "from keras.utils import to_categorical\n",
        "from keras.utils.vis_utils import plot_model\n",
        "from keras.utils.generic_utils import get_custom_objects\n",
        "from keras.models import Model, load_model\n",
        "from keras.callbacks import ModelCheckpoint, CSVLogger, ReduceLROnPlateau\n",
        "from keras.preprocessing.image import ImageDataGenerator, array_to_img, img_to_array, load_img\n",
        "from keras.layers import Dropout, Flatten, Dense, GlobalAveragePooling2D, BatchNormalization, Activation"
      ],
      "execution_count": 3,
      "outputs": [
        {
          "output_type": "stream",
          "text": [
            "/usr/local/lib/python3.6/dist-packages/statsmodels/tools/_testing.py:19: FutureWarning: pandas.util.testing is deprecated. Use the functions in the public API at pandas.testing instead.\n",
            "  import pandas.util.testing as tm\n",
            "Using TensorFlow backend.\n"
          ],
          "name": "stderr"
        }
      ]
    },
    {
      "cell_type": "markdown",
      "metadata": {
        "id": "R_x_iLkc2Btr",
        "colab_type": "text"
      },
      "source": [
        "Download Dataset.\n",
        "\n",
        "[Training Set](https://drive.google.com/file/d/1eo7kkq8zzrlWgcCcQh1Stkei_eZhIAbl/view?usp=sharing)\n",
        "\n",
        "\n",
        "[Validation Set](https://drive.google.com/file/d/1sghCxu83xV_DIZ1qWA4eLg_-hAQh-Pxs/view?usp=sharing)"
      ]
    },
    {
      "cell_type": "code",
      "metadata": {
        "id": "RQz4HYO2tNDQ",
        "colab_type": "code",
        "colab": {}
      },
      "source": [
        "# !unzip trainining"
      ],
      "execution_count": 4,
      "outputs": []
    },
    {
      "cell_type": "code",
      "metadata": {
        "id": "-jGA9doctMqf",
        "colab_type": "code",
        "colab": {}
      },
      "source": [
        "# !unzip validation"
      ],
      "execution_count": 5,
      "outputs": []
    },
    {
      "cell_type": "code",
      "metadata": {
        "id": "ZhECWAjYts9p",
        "colab_type": "code",
        "colab": {
          "base_uri": "https://localhost:8080/",
          "height": 32
        },
        "outputId": "5d9b76dd-c9b7-476c-e8b5-64414314afbd"
      },
      "source": [
        "#training\n",
        "\n",
        "training_path = '/content/train'\n",
        "validation_path = '/content/valid'\n",
        "\n",
        "lookup = dict()\n",
        "reverselookup = dict()\n",
        "count = 0\n",
        "for j in os.listdir(training_path):\n",
        "    if not j.startswith('.'):\n",
        "        lookup[j] = count\n",
        "        reverselookup[count] = j\n",
        "        count = count + 1\n",
        "lookup"
      ],
      "execution_count": 6,
      "outputs": [
        {
          "output_type": "execute_result",
          "data": {
            "text/plain": [
              "{'0': 2, '1': 3, '2': 1, '3': 0}"
            ]
          },
          "metadata": {
            "tags": []
          },
          "execution_count": 6
        }
      ]
    },
    {
      "cell_type": "code",
      "metadata": {
        "id": "R9G6Av-OttBt",
        "colab_type": "code",
        "colab": {}
      },
      "source": [
        "#training\n",
        "x_train = []\n",
        "y_train = []\n",
        "datacount = 0\n",
        "for i in range(0, 4):\n",
        "    for j in os.listdir(training_path + '/' + str(i) + '/'):\n",
        "        if not j.startswith('.'):\n",
        "            count = 0\n",
        "            img = Image.open(training_path + '/' + str(i) + '/' + j).convert('RGB')\n",
        "            img = img.resize((70, 70))\n",
        "            arr = np.array(img)\n",
        "            x_train.append(arr) \n",
        "            count = count + 1\n",
        "            y_values_t = np.full((count, 1), lookup[str(i)])\n",
        "            y_train.append(y_values_t)\n",
        "            datacount = datacount + count\n",
        "x_train = np.array(x_train, dtype='float32')\n",
        "y_train = np.array(y_train)\n",
        "y_train = y_train.reshape(datacount)"
      ],
      "execution_count": 7,
      "outputs": []
    },
    {
      "cell_type": "code",
      "metadata": {
        "id": "Au4SFJzJttEM",
        "colab_type": "code",
        "colab": {}
      },
      "source": [
        "#validation\n",
        "x_val = []\n",
        "y_val = []\n",
        "datacount = 0\n",
        "for i in range(0, 4):\n",
        "    for j in os.listdir(validation_path + '/' + str(i) + '/'):\n",
        "        if not j.startswith('.'):\n",
        "            count = 0\n",
        "            img = Image.open(validation_path + '/'  + str(i) + '/' + j).convert('RGB')\n",
        "            img = img.resize((70, 70))\n",
        "            arr = np.array(img)\n",
        "            x_val.append(arr) \n",
        "            count = count + 1\n",
        "            y_values_v = np.full((count, 1), lookup[str(i)])\n",
        "            y_val.append(y_values_v)\n",
        "            datacount = datacount + count\n",
        "x_val = np.array(x_val, dtype='float32')\n",
        "y_val = np.array(y_val)\n",
        "y_val = y_val.reshape(datacount)"
      ],
      "execution_count": 8,
      "outputs": []
    },
    {
      "cell_type": "code",
      "metadata": {
        "id": "Yv0x7a226WG7",
        "colab_type": "code",
        "colab": {}
      },
      "source": [
        "x_valid, x_test, y_valid, y_test = train_test_split(x_val, y_val, test_size=0.5, shuffle=True)"
      ],
      "execution_count": 9,
      "outputs": []
    },
    {
      "cell_type": "code",
      "metadata": {
        "id": "vJhUsMPwuU7l",
        "colab_type": "code",
        "colab": {}
      },
      "source": [
        "#training\n",
        "y_train = to_categorical(y_train)\n",
        "x_train = x_train/255\n",
        "x_train = x_train.reshape((x_train.shape[0], x_train.shape[1], x_train.shape[2], 3))\n",
        "\n",
        "#validation\n",
        "y_valid = to_categorical(y_valid)\n",
        "x_valid = x_valid/255\n",
        "x_valid = x_valid.reshape((x_valid.shape[0], x_valid.shape[1], x_valid.shape[2], 3))\n",
        "\n",
        "#test\n",
        "y_test = to_categorical(y_test)\n",
        "x_test = x_test/255\n",
        "x_test = x_test.reshape((x_test.shape[0], x_test.shape[1], x_test.shape[2], 3))"
      ],
      "execution_count": 10,
      "outputs": []
    },
    {
      "cell_type": "code",
      "metadata": {
        "id": "sF3p8qdEupna",
        "colab_type": "code",
        "colab": {
          "base_uri": "https://localhost:8080/",
          "height": 115
        },
        "outputId": "eb3a3748-41ef-45e8-ef1b-e17cbfe51bc9"
      },
      "source": [
        "x_train.shape, y_train.shape, x_valid.shape, y_valid.shape, x_test.shape, y_test.shape"
      ],
      "execution_count": 11,
      "outputs": [
        {
          "output_type": "execute_result",
          "data": {
            "text/plain": [
              "((5120, 70, 70, 3),\n",
              " (5120, 4),\n",
              " (800, 70, 70, 3),\n",
              " (800, 4),\n",
              " (800, 70, 70, 3),\n",
              " (800, 4))"
            ]
          },
          "metadata": {
            "tags": []
          },
          "execution_count": 11
        }
      ]
    },
    {
      "cell_type": "code",
      "metadata": {
        "id": "u97tEQAGuU-B",
        "colab_type": "code",
        "colab": {}
      },
      "source": [
        "class SwishActivation(Activation):\n",
        "    \n",
        "    def __init__(self, activation, **kwargs):\n",
        "        super(SwishActivation, self).__init__(activation, **kwargs)\n",
        "        self.__name__ = 'swish_act'\n",
        "\n",
        "def swish_act(x, beta = 1):\n",
        "    return (x * sigmoid(beta * x))\n",
        "\n",
        "get_custom_objects().update({'swish_act': SwishActivation(swish_act)})"
      ],
      "execution_count": 12,
      "outputs": []
    },
    {
      "cell_type": "code",
      "metadata": {
        "id": "J6DuULq9uf4B",
        "colab_type": "code",
        "colab": {}
      },
      "source": [
        "model = enet.EfficientNetB0(include_top=False, input_shape=(70, 70, 3), pooling='avg', weights='imagenet')\n",
        "\n",
        "x = model.output\n",
        "\n",
        "x = BatchNormalization()(x)\n",
        "x = Dropout(0.5)(x)\n",
        "\n",
        "x = Dense(512)(x)\n",
        "x = BatchNormalization()(x)\n",
        "x = Activation('swish_act')(x)\n",
        "x = Dropout(0.5)(x)\n",
        "\n",
        "x = Dense(256)(x)\n",
        "x = Activation('swish_act')(x)\n",
        "\n",
        "x = Dense(128)(x)\n",
        "x = Activation('swish_act')(x)\n",
        "\n",
        "x = Dense(64)(x)\n",
        "x = Activation('swish_act')(x)\n",
        "\n",
        "x = Dense(32)(x)\n",
        "x = Activation('swish_act')(x)\n",
        "\n",
        "x = Dense(16)(x)\n",
        "x = Activation('swish_act')(x)\n",
        "\n",
        "x = Dense(8)(x)\n",
        "x = Activation('swish_act')(x)\n",
        "\n",
        "\n",
        "# Output layer\n",
        "predictions = Dense(4, activation='softmax')(x)\n",
        "model_final = Model(inputs = model.input, outputs = predictions)\n",
        "\n",
        "# model_final.summary()"
      ],
      "execution_count": 13,
      "outputs": []
    },
    {
      "cell_type": "code",
      "metadata": {
        "id": "i_05fheGu-8M",
        "colab_type": "code",
        "colab": {
          "base_uri": "https://localhost:8080/",
          "height": 777
        },
        "outputId": "da8348df-1b96-4fb8-81ff-e6e7caf78cee"
      },
      "source": [
        "model_final.compile(loss='categorical_crossentropy',\n",
        "              optimizer=Adam(0.0001),\n",
        "              metrics=['accuracy'])\n",
        "\n",
        "mcp_save = ModelCheckpoint('Final_Model.h5', save_best_only=True, monitor='val_acc')\n",
        "reduce_lr = ReduceLROnPlateau(monitor='val_acc', factor=0.5, patience=2, verbose=1,)\n",
        "\n",
        "history = model_final.fit(x_train, y_train,\n",
        "                          batch_size=32,\n",
        "                          epochs=20,\n",
        "                          validation_data=[x_valid, y_valid],\n",
        "                          callbacks=[mcp_save, reduce_lr],\n",
        "                          shuffle=True,\n",
        "                          verbose=1)\n",
        "\n",
        "model_final.save('Final_Model.h5')\n",
        "model_final.save_weights('Final_Model_Weight.h5')"
      ],
      "execution_count": 14,
      "outputs": [
        {
          "output_type": "stream",
          "text": [
            "Train on 5120 samples, validate on 800 samples\n",
            "Epoch 1/20\n",
            "5120/5120 [==============================] - 38s 7ms/step - loss: 0.8927 - accuracy: 0.6887 - val_loss: 0.4492 - val_accuracy: 0.9825\n",
            "Epoch 2/20\n",
            "  32/5120 [..............................] - ETA: 17s - loss: 0.2613 - accuracy: 0.9062"
          ],
          "name": "stdout"
        },
        {
          "output_type": "stream",
          "text": [
            "/usr/local/lib/python3.6/dist-packages/keras/callbacks/callbacks.py:707: RuntimeWarning: Can save best model only with val_acc available, skipping.\n",
            "  'skipping.' % (self.monitor), RuntimeWarning)\n",
            "/usr/local/lib/python3.6/dist-packages/keras/callbacks/callbacks.py:1042: RuntimeWarning: Reduce LR on plateau conditioned on metric `val_acc` which is not available. Available metrics are: val_loss,val_accuracy,loss,accuracy,lr\n",
            "  (self.monitor, ','.join(list(logs.keys()))), RuntimeWarning\n"
          ],
          "name": "stderr"
        },
        {
          "output_type": "stream",
          "text": [
            "5120/5120 [==============================] - 19s 4ms/step - loss: 0.0968 - accuracy: 0.9729 - val_loss: 0.0491 - val_accuracy: 0.9987\n",
            "Epoch 3/20\n",
            "5120/5120 [==============================] - 19s 4ms/step - loss: 0.0459 - accuracy: 0.9877 - val_loss: 0.0095 - val_accuracy: 0.9987\n",
            "Epoch 4/20\n",
            "5120/5120 [==============================] - 19s 4ms/step - loss: 0.0317 - accuracy: 0.9918 - val_loss: 0.0260 - val_accuracy: 0.9900\n",
            "Epoch 5/20\n",
            "5120/5120 [==============================] - 19s 4ms/step - loss: 0.0151 - accuracy: 0.9963 - val_loss: 0.0611 - val_accuracy: 0.9825\n",
            "Epoch 6/20\n",
            "5120/5120 [==============================] - 19s 4ms/step - loss: 0.0129 - accuracy: 0.9967 - val_loss: 0.1171 - val_accuracy: 0.9488\n",
            "Epoch 7/20\n",
            "5120/5120 [==============================] - 19s 4ms/step - loss: 0.0164 - accuracy: 0.9959 - val_loss: 0.0451 - val_accuracy: 0.9862\n",
            "Epoch 8/20\n",
            "5120/5120 [==============================] - 19s 4ms/step - loss: 0.0136 - accuracy: 0.9971 - val_loss: 0.0618 - val_accuracy: 0.9800\n",
            "Epoch 9/20\n",
            "5120/5120 [==============================] - 19s 4ms/step - loss: 0.0151 - accuracy: 0.9951 - val_loss: 0.0068 - val_accuracy: 0.9975\n",
            "Epoch 10/20\n",
            "5120/5120 [==============================] - 18s 4ms/step - loss: 0.0090 - accuracy: 0.9984 - val_loss: 0.0345 - val_accuracy: 0.9850\n",
            "Epoch 11/20\n",
            "5120/5120 [==============================] - 18s 4ms/step - loss: 0.0115 - accuracy: 0.9965 - val_loss: 0.0313 - val_accuracy: 0.9887\n",
            "Epoch 12/20\n",
            "5120/5120 [==============================] - 18s 4ms/step - loss: 0.0073 - accuracy: 0.9984 - val_loss: 0.0142 - val_accuracy: 0.9975\n",
            "Epoch 13/20\n",
            "5120/5120 [==============================] - 18s 4ms/step - loss: 0.0163 - accuracy: 0.9961 - val_loss: 0.0263 - val_accuracy: 0.9912\n",
            "Epoch 14/20\n",
            "5120/5120 [==============================] - 18s 4ms/step - loss: 0.0109 - accuracy: 0.9975 - val_loss: 0.0200 - val_accuracy: 0.9900\n",
            "Epoch 15/20\n",
            "5120/5120 [==============================] - 18s 4ms/step - loss: 0.0058 - accuracy: 0.9988 - val_loss: 0.0761 - val_accuracy: 0.9725\n",
            "Epoch 16/20\n",
            "5120/5120 [==============================] - 18s 4ms/step - loss: 0.0080 - accuracy: 0.9973 - val_loss: 0.0075 - val_accuracy: 0.9975\n",
            "Epoch 17/20\n",
            "5120/5120 [==============================] - 18s 4ms/step - loss: 0.0025 - accuracy: 0.9990 - val_loss: 0.0329 - val_accuracy: 0.9837\n",
            "Epoch 18/20\n",
            "5120/5120 [==============================] - 18s 4ms/step - loss: 0.0062 - accuracy: 0.9982 - val_loss: 0.0127 - val_accuracy: 0.9987\n",
            "Epoch 19/20\n",
            "5120/5120 [==============================] - 18s 4ms/step - loss: 0.0026 - accuracy: 0.9992 - val_loss: 0.0107 - val_accuracy: 0.9975\n",
            "Epoch 20/20\n",
            "5120/5120 [==============================] - 18s 4ms/step - loss: 0.0061 - accuracy: 0.9988 - val_loss: 0.0063 - val_accuracy: 0.9987\n"
          ],
          "name": "stdout"
        }
      ]
    },
    {
      "cell_type": "code",
      "metadata": {
        "id": "WyoDeaEPawp0",
        "colab_type": "code",
        "colab": {
          "base_uri": "https://localhost:8080/",
          "height": 571
        },
        "outputId": "f8859601-0645-40b3-e17b-93f7fc9ebba1"
      },
      "source": [
        "# Plot training & validation accuracy values\n",
        "plt.plot(history.history['accuracy'])\n",
        "plt.plot(history.history['val_accuracy'])\n",
        "plt.title('Model accuracy')\n",
        "plt.ylabel('Accuracy')\n",
        "plt.xlabel('Epoch')\n",
        "plt.legend(['Training Dataset', 'Validation Dataset'], loc='lower right')\n",
        "plt.show()\n",
        "\n",
        "# Plot training & validation loss values\n",
        "plt.plot(history.history['loss'])\n",
        "plt.plot(history.history['val_loss'])\n",
        "plt.title('Model loss')\n",
        "plt.ylabel('Loss')\n",
        "plt.xlabel('Epoch')\n",
        "plt.legend(['Training Dataset', 'Validation Dataset'], loc='upper right')\n",
        "plt.show()"
      ],
      "execution_count": 15,
      "outputs": [
        {
          "output_type": "display_data",
          "data": {
            "image/png": "[encoded data removed]",
            "text/plain": [
              "<Figure size 432x288 with 1 Axes>"
            ]
          },
          "metadata": {
            "tags": [],
            "needs_background": "light"
          }
        },
        {
          "output_type": "display_data",
          "data": {
            "image/png": "[encoded data removed]",
            "text/plain": [
              "<Figure size 432x288 with 1 Axes>"
            ]
          },
          "metadata": {
            "tags": [],
            "needs_background": "light"
          }
        }
      ]
    },
    {
      "cell_type": "code",
      "metadata": {
        "id": "RmOgbgL1vAK-",
        "colab_type": "code",
        "colab": {
          "base_uri": "https://localhost:8080/",
          "height": 49
        },
        "outputId": "827159fd-e080-4c39-ec8c-3cd6e974097e"
      },
      "source": [
        "_, acc = model_final.evaluate(x_test, y_test)\n",
        "print('Test Accuracy: {}%'.format(acc*100))"
      ],
      "execution_count": 28,
      "outputs": [
        {
          "output_type": "stream",
          "text": [
            "800/800 [==============================] - 1s 761us/step\n",
            "Test Accuracy: 100.0%\n"
          ],
          "name": "stdout"
        }
      ]
    },
    {
      "cell_type": "code",
      "metadata": {
        "id": "ADx71UG5vla0",
        "colab_type": "code",
        "colab": {
          "base_uri": "https://localhost:8080/",
          "height": 268
        },
        "outputId": "e5f28f3c-f66a-4908-ac27-e7cca8a091e9"
      },
      "source": [
        "test_pred = model_final.predict(x_test)\n",
        "ax = sns.heatmap(confusion_matrix(np.argmax(y_test, axis=1), np.argmax(test_pred, axis=1)), cmap='binary', annot=True, fmt='d')"
      ],
      "execution_count": 29,
      "outputs": [
        {
          "output_type": "display_data",
          "data": {
            "image/png": "[encoded data removed]",
            "text/plain": [
              "<Figure size 432x288 with 2 Axes>"
            ]
          },
          "metadata": {
            "tags": [],
            "needs_background": "light"
          }
        }
      ]
    },
    {
      "cell_type": "code",
      "metadata": {
        "id": "UEJHd_Bi_8VA",
        "colab_type": "code",
        "colab": {}
      },
      "source": [
        "test_datagen = ImageDataGenerator()\n",
        "\n",
        "test_generator = test_datagen.flow(x_test, y_test, shuffle=False)\n",
        "predict_label = model_final.predict_generator(test_generator)"
      ],
      "execution_count": 30,
      "outputs": []
    },
    {
      "cell_type": "code",
      "metadata": {
        "id": "6uASPWZy8qFv",
        "colab_type": "code",
        "colab": {}
      },
      "source": [
        "real_label = test_generator.y"
      ],
      "execution_count": 31,
      "outputs": []
    },
    {
      "cell_type": "code",
      "metadata": {
        "id": "C0w8GvXnZMth",
        "colab_type": "code",
        "colab": {}
      },
      "source": [
        "count = 0\n",
        "for i in range(0, 799):\n",
        "    if (np.argmax(real_label[i]) != np.argmax(predict_label[i])):\n",
        "      print(i)\n",
        "      count = count + 1"
      ],
      "execution_count": 32,
      "outputs": []
    }
  ]
}