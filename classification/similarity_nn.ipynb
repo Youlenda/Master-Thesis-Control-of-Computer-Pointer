{
  "nbformat": 4,
  "nbformat_minor": 0,
  "metadata": {
    "colab": {
      "name": "similarity nn.ipynb",
      "provenance": [],
      "collapsed_sections": []
    },
    "kernelspec": {
      "name": "python3",
      "display_name": "Python 3"
    },
    "accelerator": "GPU"
  },
  "cells": [
    {
      "cell_type": "markdown",
      "metadata": {
        "id": "ZA4hKOLO1Isy",
        "colab_type": "text"
      },
      "source": [
        "Yalda Foroutan\n",
        "\n",
        "https://github.com/Youlenda\n",
        "\n",
        "**Similarity NN for Hand Poses Classification**"
      ]
    },
    {
      "cell_type": "code",
      "metadata": {
        "id": "kTbypF-Gy0R1",
        "colab_type": "code",
        "colab": {}
      },
      "source": [
        "##installing tensorflow, keras and efficientnet\n",
        "\n",
        "# !pip install q tensorflow==2.1\n",
        "# !pip install q keras==2.3.1\n",
        "\n",
        "# !pip install efficientnet"
      ],
      "execution_count": null,
      "outputs": []
    },
    {
      "cell_type": "code",
      "metadata": {
        "id": "YvNmVLvitFZ_",
        "colab_type": "code",
        "colab": {}
      },
      "source": [
        "##importing libraries\n",
        "\n",
        "import os\n",
        "import glob \n",
        "import numpy as np\n",
        "import pandas as pd\n",
        "from PIL import Image\n",
        "import seaborn as sns\n",
        "import tensorflow as tf\n",
        "\n",
        "import matplotlib.pyplot as plt\n",
        "import matplotlib.image as mpimg\n",
        "\n",
        "from sklearn.metrics import confusion_matrix\n",
        "from sklearn.model_selection import train_test_split\n",
        "\n",
        "import keras\n",
        "from keras import backend as k \n",
        "from keras.backend import sigmoid\n",
        "from keras import applications\n",
        "from keras import optimizers\n",
        "from keras.optimizers import Adam\n",
        "import efficientnet.keras as enet\n",
        "from keras.utils import to_categorical\n",
        "from keras.utils.vis_utils import plot_model\n",
        "from keras.utils.generic_utils import get_custom_objects\n",
        "from keras.models import Model, load_model\n",
        "from keras.callbacks import ModelCheckpoint, CSVLogger, ReduceLROnPlateau\n",
        "from keras.preprocessing.image import ImageDataGenerator, array_to_img, img_to_array, load_img\n",
        "from keras.layers import Dropout, Flatten, Dense, GlobalAveragePooling2D, BatchNormalization, Activation"
      ],
      "execution_count": 21,
      "outputs": []
    },
    {
      "cell_type": "markdown",
      "metadata": {
        "id": "R_x_iLkc2Btr",
        "colab_type": "text"
      },
      "source": [
        "Download Dataset.\n",
        "\n",
        "[Training Set](https://drive.google.com/file/d/1eo7kkq8zzrlWgcCcQh1Stkei_eZhIAbl/view?usp=sharing)\n",
        "\n",
        "\n",
        "[Validation Set](https://drive.google.com/file/d/1sghCxu83xV_DIZ1qWA4eLg_-hAQh-Pxs/view?usp=sharing)"
      ]
    },
    {
      "cell_type": "code",
      "metadata": {
        "id": "RQz4HYO2tNDQ",
        "colab_type": "code",
        "colab": {}
      },
      "source": [
        "# !unzip training"
      ],
      "execution_count": null,
      "outputs": []
    },
    {
      "cell_type": "code",
      "metadata": {
        "id": "-jGA9doctMqf",
        "colab_type": "code",
        "colab": {}
      },
      "source": [
        "# !unzip validation"
      ],
      "execution_count": null,
      "outputs": []
    },
    {
      "cell_type": "code",
      "metadata": {
        "id": "ZhECWAjYts9p",
        "colab_type": "code",
        "colab": {
          "base_uri": "https://localhost:8080/",
          "height": 32
        },
        "outputId": "219a41e4-e270-4b36-cd20-181d8ad5c5e9"
      },
      "source": [
        "##training\n",
        "\n",
        "training_path = '/content/train'\n",
        "validation_path = '/content/valid'\n",
        "\n",
        "lookup = dict()\n",
        "reverselookup = dict()\n",
        "count = 0\n",
        "for j in os.listdir(training_path):\n",
        "    if not j.startswith('.'):\n",
        "        lookup[j] = count\n",
        "        reverselookup[count] = j\n",
        "        count = count + 1\n",
        "lookup"
      ],
      "execution_count": 22,
      "outputs": [
        {
          "output_type": "execute_result",
          "data": {
            "text/plain": [
              "{'0': 1, '1': 3, '2': 2, '3': 0}"
            ]
          },
          "metadata": {
            "tags": []
          },
          "execution_count": 22
        }
      ]
    },
    {
      "cell_type": "code",
      "metadata": {
        "id": "R9G6Av-OttBt",
        "colab_type": "code",
        "colab": {}
      },
      "source": [
        "##training\n",
        "\n",
        "x_train = []\n",
        "y_train = []\n",
        "datacount = 0\n",
        "for i in range(0, 4):\n",
        "    for j in os.listdir(training_path + '/' + str(i) + '/'):\n",
        "        if not j.startswith('.'):\n",
        "            count = 0\n",
        "            img = Image.open(training_path + '/' + str(i) + '/' + j).convert('RGB')\n",
        "            img = img.resize((70, 70))\n",
        "            arr = np.array(img)\n",
        "            x_train.append(arr) \n",
        "            count = count + 1\n",
        "            y_values_t = np.full((count, 1), lookup[str(i)])\n",
        "            y_train.append(y_values_t)\n",
        "            datacount = datacount + count\n",
        "x_train = np.array(x_train, dtype='float32')\n",
        "y_train = np.array(y_train)\n",
        "y_train = y_train.reshape(datacount)"
      ],
      "execution_count": 23,
      "outputs": []
    },
    {
      "cell_type": "code",
      "metadata": {
        "id": "Au4SFJzJttEM",
        "colab_type": "code",
        "colab": {}
      },
      "source": [
        "##validation\n",
        "\n",
        "x_val = []\n",
        "y_val = []\n",
        "datacount = 0\n",
        "for i in range(0, 4):\n",
        "    for j in os.listdir(validation_path + '/' + str(i) + '/'):\n",
        "        if not j.startswith('.'):\n",
        "            count = 0\n",
        "            img = Image.open(validation_path + '/'  + str(i) + '/' + j).convert('RGB')\n",
        "            img = img.resize((70, 70))\n",
        "            arr = np.array(img)\n",
        "            x_val.append(arr) \n",
        "            count = count + 1\n",
        "            y_values_v = np.full((count, 1), lookup[str(i)])\n",
        "            y_val.append(y_values_v)\n",
        "            datacount = datacount + count\n",
        "x_val = np.array(x_val, dtype='float32')\n",
        "y_val = np.array(y_val)\n",
        "y_val = y_val.reshape(datacount)"
      ],
      "execution_count": 26,
      "outputs": []
    },
    {
      "cell_type": "code",
      "metadata": {
        "id": "u97tEQAGuU-B",
        "colab_type": "code",
        "colab": {}
      },
      "source": [
        "##new activation func from EfficientNet\n",
        "\n",
        "class SwishActivation(Activation):\n",
        "    \n",
        "    def __init__(self, activation, **kwargs):\n",
        "        super(SwishActivation, self).__init__(activation, **kwargs)\n",
        "        self.__name__ = 'swish_act'\n",
        "\n",
        "def swish_act(x, beta = 1):\n",
        "    return (x * sigmoid(beta * x))\n",
        "\n",
        "get_custom_objects().update({'swish_act': SwishActivation(swish_act)})"
      ],
      "execution_count": 30,
      "outputs": []
    },
    {
      "cell_type": "code",
      "metadata": {
        "id": "ZsYSzTYVWzW0",
        "colab_type": "code",
        "colab": {}
      },
      "source": [
        "##removing fully-connected layers to creat model distance\n",
        "\n",
        "model = enet.EfficientNetB0(include_top=False, input_shape=(70, 70, 3),\n",
        "                            pooling='avg', weights='imagenet')\n",
        "x = model.output\n",
        "x = BatchNormalization()(x)\n",
        "x = Dropout(0.5)(x)\n",
        "\n",
        "x = Dense(512)(x)\n",
        "x = BatchNormalization()(x)\n",
        "x = Activation('swish_act')(x)\n",
        "x = Dropout(0.5)(x)\n",
        "\n",
        "x = Dense(256)(x)\n",
        "x = Activation('swish_act')(x)\n",
        "\n",
        "x = Dense(128)(x)\n",
        "x = Activation('swish_act')(x)\n",
        "\n",
        "x = Dense(64)(x)\n",
        "x = Activation('swish_act')(x)\n",
        "\n",
        "x = Dense(32)(x)\n",
        "x = Activation('swish_act')(x)\n",
        "\n",
        "x = Dense(16)(x)\n",
        "x = Activation('swish_act')(x)\n",
        "\n",
        "x = Dense(8)(x)\n",
        "x = Activation('swish_act')(x)\n",
        "\n",
        "predictions = Dense(4, activation='softmax')(x)\n",
        "model_final = Model(inputs = model.input, outputs = predictions)\n",
        "\n",
        "model_final.load_weights('Final_Model_Weights.h5')\n",
        "\n",
        "model_final.layers.pop()\n",
        "model_distance = Model(model_final.input, model_final.layers[-17].output)"
      ],
      "execution_count": 31,
      "outputs": []
    },
    {
      "cell_type": "code",
      "metadata": {
        "id": "UEJHd_Bi_8VA",
        "colab_type": "code",
        "colab": {}
      },
      "source": [
        "##using model.predict_generator instead model_predict because of keras problem\n",
        "\n",
        "valid_datagen = ImageDataGenerator()\n",
        "\n",
        "valid_generator = valid_datagen.flow(x_val, y_val, shuffle=False)\n",
        "encoded_samples = model_distance.predict_generator(valid_generator)"
      ],
      "execution_count": 49,
      "outputs": []
    },
    {
      "cell_type": "code",
      "metadata": {
        "id": "y8dfaK3geZFE",
        "colab_type": "code",
        "colab": {}
      },
      "source": [
        "##creating ref vectors with each class samples\n",
        "\n",
        "vec_1 = encoded_samples[0:400]\n",
        "vec_3 = encoded_samples[400:800]\n",
        "vec_2 = encoded_samples[800:1200]\n",
        "vec_0 = encoded_samples[1200:1600]"
      ],
      "execution_count": 70,
      "outputs": []
    },
    {
      "cell_type": "code",
      "metadata": {
        "id": "ElhKfwmCg6SQ",
        "colab_type": "code",
        "colab": {}
      },
      "source": [
        "##averaging\n",
        "\n",
        "zero  = np.sum(vec_0, axis=0)/400\n",
        "one   = np.sum(vec_1, axis=0)/400\n",
        "two   = np.sum(vec_2, axis=0)/400\n",
        "three = np.sum(vec_3, axis=0)/400"
      ],
      "execution_count": 77,
      "outputs": []
    },
    {
      "cell_type": "code",
      "metadata": {
        "id": "evj1F9W3jZ06",
        "colab_type": "code",
        "colab": {}
      },
      "source": [
        "#saving ref vectors\n",
        "\n",
        "np.savetxt('fist.csv', zero, delimiter=',')\n",
        "np.savetxt('left.csv', one, delimiter=',')\n",
        "np.savetxt('right.csv', two, delimiter=',')\n",
        "np.savetxt('palm.csv', three, delimiter=',')"
      ],
      "execution_count": 79,
      "outputs": []
    }
  ]
}